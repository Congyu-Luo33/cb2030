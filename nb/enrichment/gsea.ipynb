{
 "cells": [
  {
   "cell_type": "markdown",
   "metadata": {},
   "source": [
    "# Over representation  analysis and gene set enrichment analysis "
   ]
  },
  {
   "cell_type": "markdown",
   "metadata": {},
   "source": [
    "We first run the same steps as in the previous notebook on multiple testing."
   ]
  },
  {
   "cell_type": "code",
   "execution_count": 1,
   "metadata": {},
   "outputs": [],
   "source": [
    "import pandas as pd\n",
    "import numpy as np\n",
    "from scipy.stats import ttest_ind\n",
    "import sys\n",
    "sys.path.append(\"..\") # Read loacal modules for tcga access and qvalue calculations\n",
    "import tcga_read as tcga\n",
    "import qvalue\n",
    "\n",
    "brca = tcga.get_expression_data(\"../../data/brca.tsv.gz\", 'http://download.cbioportal.org/brca_tcga_pub2015.tar.gz',\"data_RNA_Seq_v2_expression_median.txt\")\n",
    "brca_clin = tcga.get_clinical_data(\"../../data/brca_clin.tsv.gz\", 'http://download.cbioportal.org/brca_tcga_pub2015.tar.gz',\"data_clinical_sample.txt\")\n",
    "brca.dropna(axis=0, how='any', inplace=True)\n",
    "brca = brca.loc[~(brca<=0.0).any(axis=1)]\n",
    "brca = pd.DataFrame(data=np.log2(brca),index=brca.index,columns=brca.columns)\n",
    "brca_clin.loc[\"3N\"]= (brca_clin.loc[\"PR status by ihc\"]==\"Negative\") & (brca_clin.loc[\"ER Status By IHC\"]==\"Negative\") & (brca_clin.loc[\"IHC-HER2\"]==\"Negative\")\n",
    "tripple_negative_bool = (brca_clin.loc[\"3N\"] == True)\n",
    "\n",
    "def get_significance_two_groups(row):\n",
    "    log_fold_change = row[tripple_negative_bool].mean() - row[~tripple_negative_bool].mean()\n",
    "    p = ttest_ind(row[tripple_negative_bool],row[~tripple_negative_bool],equal_var=False)[1]\n",
    "    return [p,-np.log10(p),log_fold_change]\n",
    "\n",
    "pvalues = brca.apply(get_significance_two_groups,axis=1,result_type=\"expand\")\n",
    "pvalues.rename(columns = {list(pvalues)[0]: 'p', list(pvalues)[1]: '-log_p', list(pvalues)[2]: 'log_FC'}, inplace = True)\n",
    "qvalues = qvalue.qvalues(pvalues)"
   ]
  },
  {
   "cell_type": "markdown",
   "metadata": {},
   "source": [
    "If we investigate a Volcano plot of the tripple negative cancers vs. the other cancers, we see an large number of both up and down regulated genes. We will in this note book ecamine if there are common patterns in the up and down regulation. "
   ]
  },
  {
   "cell_type": "code",
   "execution_count": 2,
   "metadata": {},
   "outputs": [
    {
     "data": {
      "text/plain": [
       "<Figure size 500x500 with 1 Axes>"
      ]
     },
     "metadata": {},
     "output_type": "display_data"
    }
   ],
   "source": [
    "import matplotlib.pyplot as plt\n",
    "import seaborn as sns\n",
    "\n",
    "sns.relplot(data=qvalues,x=\"log_FC\",y=\"-log_p\")\n",
    "plt.xlabel(\"$log_2(FC)$\")\n",
    "plt.ylabel(\"$-log_{10}(p)$\")\n",
    "plt.show()"
   ]
  },
  {
   "cell_type": "markdown",
   "metadata": {},
   "source": [
    "### Over-representation analysis\n",
    "\n",
    "We use the [gseapy](https://gseapy.readthedocs.io/) module to run an overrepresentation analysis as implemented by the [Enrichr](http://amp.pharm.mssm.edu/Enrichr/). In the analysis we use the [KEGG](https://www.genome.jp/kegg/) database's definition of metabolomic pathways. This choice can easily be changed to other databases such as GO.\n",
    "\n",
    "Here we select to use the $q$ values below $10^{-15}$ as an input. "
   ]
  },
  {
   "cell_type": "code",
   "execution_count": 3,
   "metadata": {},
   "outputs": [],
   "source": [
    "import gseapy as gp\n",
    "\n",
    "pathway_db=['KEGG_2019_Human']\n",
    "background=set(qvalues.index)\n",
    "gene_list = list(qvalues.loc[qvalues[\"q\"]<1e-15,\"q\"].index)\n",
    "\n",
    "output_enrichr=pd.DataFrame()\n",
    "enr=gp.enrichr(\n",
    "                gene_list=gene_list,\n",
    "                gene_sets=pathway_db,\n",
    "                background=background,\n",
    "                outdir = None\n",
    "            )\n"
   ]
  },
  {
   "cell_type": "markdown",
   "metadata": {},
   "source": [
    "We clean up the results a bit by only keeping some of the resulting metics. We also multiple hypothesis correct our results, and list the terms with a FDR less than 5%."
   ]
  },
  {
   "cell_type": "code",
   "execution_count": 4,
   "metadata": {},
   "outputs": [
    {
     "data": {
      "text/html": [
       "<div>\n",
       "<style scoped>\n",
       "    .dataframe tbody tr th:only-of-type {\n",
       "        vertical-align: middle;\n",
       "    }\n",
       "\n",
       "    .dataframe tbody tr th {\n",
       "        vertical-align: top;\n",
       "    }\n",
       "\n",
       "    .dataframe thead th {\n",
       "        text-align: right;\n",
       "    }\n",
       "</style>\n",
       "<table border=\"1\" class=\"dataframe\">\n",
       "  <thead>\n",
       "    <tr style=\"text-align: right;\">\n",
       "      <th></th>\n",
       "      <th>p</th>\n",
       "      <th>Overlap</th>\n",
       "      <th>Term</th>\n",
       "      <th>q</th>\n",
       "    </tr>\n",
       "  </thead>\n",
       "  <tbody>\n",
       "    <tr>\n",
       "      <td>0</td>\n",
       "      <td>6.142575e-11</td>\n",
       "      <td>24/124</td>\n",
       "      <td>Cell cycle</td>\n",
       "      <td>1.558670e-08</td>\n",
       "    </tr>\n",
       "    <tr>\n",
       "      <td>1</td>\n",
       "      <td>1.631457e-04</td>\n",
       "      <td>17/160</td>\n",
       "      <td>Cellular senescence</td>\n",
       "      <td>2.069899e-02</td>\n",
       "    </tr>\n",
       "    <tr>\n",
       "      <td>2</td>\n",
       "      <td>3.322946e-04</td>\n",
       "      <td>7/35</td>\n",
       "      <td>Alanine, aspartate and glutamate metabolism</td>\n",
       "      <td>2.810643e-02</td>\n",
       "    </tr>\n",
       "  </tbody>\n",
       "</table>\n",
       "</div>"
      ],
      "text/plain": [
       "              p Overlap                                         Term  \\\n",
       "0  6.142575e-11  24/124                                   Cell cycle   \n",
       "1  1.631457e-04  17/160                          Cellular senescence   \n",
       "2  3.322946e-04    7/35  Alanine, aspartate and glutamate metabolism   \n",
       "\n",
       "              q  \n",
       "0  1.558670e-08  \n",
       "1  2.069899e-02  \n",
       "2  2.810643e-02  "
      ]
     },
     "execution_count": 4,
     "metadata": {},
     "output_type": "execute_result"
    }
   ],
   "source": [
    "kegg_enr = enr.results[[\"P-value\",\"Overlap\",\"Term\"]].rename(columns={\"P-value\": \"p\"})\n",
    "kegg_enr = qvalue.qvalues(kegg_enr)\n",
    "kegg_enr.loc[kegg_enr[\"q\"]<0.05]"
   ]
  },
  {
   "cell_type": "markdown",
   "metadata": {},
   "source": [
    "### Debugging the Enrichr score\n",
    "\n",
    "A note, not nececairy a part of the course, but to anyone interested. The Enrichr method claims that they calculate their \n",
    "pvalues using a hypergeometric distribution. When trying to recreate the $p$ values of the first term \"Cell cycle\" where our differential expression list covers \n",
    "24 of the pathway's 124 genes we find a differnt probability than anticipated. I can not see the reson for this discrepancey. If you have an explanation, please let me know."
   ]
  },
  {
   "cell_type": "code",
   "execution_count": 5,
   "metadata": {},
   "outputs": [
    {
     "data": {
      "text/plain": [
       "6.797034073626332e-08"
      ]
     },
     "execution_count": 5,
     "metadata": {},
     "output_type": "execute_result"
    }
   ],
   "source": [
    "import scipy.stats as stats\n",
    "pvalue = stats.hypergeom.sf(24,  len(background), 124, len(gene_list))\n",
    "pvalue"
   ]
  },
  {
   "cell_type": "markdown",
   "metadata": {},
   "source": [
    "## Geneset Enrichment analysis\n",
    "\n",
    "Subsequently we us pygsea to perform a geneset enricment analysis (GSEA).\n"
   ]
  },
  {
   "cell_type": "code",
   "execution_count": 6,
   "metadata": {},
   "outputs": [],
   "source": [
    "classes = [\"TrippleNeg\" if tripple_negative_bool[sample_name] else \"Respond\" for sample_name in brca.columns]\n",
    "gs_res = gp.gsea(data=brca, \n",
    "                 gene_sets='KEGG_2016', \n",
    "                 cls=classes, # cls=class_vector\n",
    "                 # set permutation_type to phenotype if samples >=15\n",
    "                 permutation_type='phenotype',\n",
    "                 permutation_num=100, # reduce number to speed up test\n",
    "                 outdir=None,  # do not write output to disk\n",
    "                 no_plot=True, # Skip plotting\n",
    "                 method='signal_to_noise',\n",
    "                 processes=4,\n",
    "                 format='png')"
   ]
  },
  {
   "cell_type": "code",
   "execution_count": 7,
   "metadata": {},
   "outputs": [
    {
     "data": {
      "text/html": [
       "<div>\n",
       "<style scoped>\n",
       "    .dataframe tbody tr th:only-of-type {\n",
       "        vertical-align: middle;\n",
       "    }\n",
       "\n",
       "    .dataframe tbody tr th {\n",
       "        vertical-align: top;\n",
       "    }\n",
       "\n",
       "    .dataframe thead th {\n",
       "        text-align: right;\n",
       "    }\n",
       "</style>\n",
       "<table border=\"1\" class=\"dataframe\">\n",
       "  <thead>\n",
       "    <tr style=\"text-align: right;\">\n",
       "      <th></th>\n",
       "      <th>es</th>\n",
       "      <th>nes</th>\n",
       "      <th>pval</th>\n",
       "      <th>fdr</th>\n",
       "      <th>geneset_size</th>\n",
       "      <th>matched_size</th>\n",
       "      <th>genes</th>\n",
       "      <th>ledge_genes</th>\n",
       "    </tr>\n",
       "    <tr>\n",
       "      <th>Term</th>\n",
       "      <th></th>\n",
       "      <th></th>\n",
       "      <th></th>\n",
       "      <th></th>\n",
       "      <th></th>\n",
       "      <th></th>\n",
       "      <th></th>\n",
       "      <th></th>\n",
       "    </tr>\n",
       "  </thead>\n",
       "  <tbody>\n",
       "    <tr>\n",
       "      <td>Vasopressin-regulated water reabsorption_Homo sapiens_hsa04962</td>\n",
       "      <td>0.477199</td>\n",
       "      <td>3.592215</td>\n",
       "      <td>0.025424</td>\n",
       "      <td>0.447461</td>\n",
       "      <td>44</td>\n",
       "      <td>37</td>\n",
       "      <td>DCTN4;ADCY9;RAB5B;CREB3L4;ADCY6;RAB5C;CREB3L1;...</td>\n",
       "      <td>DCTN4;ADCY9;RAB5B;CREB3L4;ADCY6;RAB5C;CREB3L1;...</td>\n",
       "    </tr>\n",
       "    <tr>\n",
       "      <td>Peroxisome_Homo sapiens_hsa04146</td>\n",
       "      <td>0.458265</td>\n",
       "      <td>3.357253</td>\n",
       "      <td>0.033058</td>\n",
       "      <td>0.688015</td>\n",
       "      <td>83</td>\n",
       "      <td>70</td>\n",
       "      <td>NUDT12;HSD17B4;PEX12;ACOX2;CROT;SLC27A2;PEX11A...</td>\n",
       "      <td>NUDT12;HSD17B4;PEX12;ACOX2;CROT;SLC27A2;PEX11A...</td>\n",
       "    </tr>\n",
       "    <tr>\n",
       "      <td>Sphingolipid metabolism_Homo sapiens_hsa00600</td>\n",
       "      <td>0.494355</td>\n",
       "      <td>3.656919</td>\n",
       "      <td>0.035714</td>\n",
       "      <td>0.699064</td>\n",
       "      <td>47</td>\n",
       "      <td>35</td>\n",
       "      <td>DEGS2;UGCG;CERS6;ASAH1;CERS4;SPTLC2;CERS2;SMPD...</td>\n",
       "      <td>DEGS2;UGCG;CERS6;ASAH1;CERS4;SPTLC2;CERS2;SMPD...</td>\n",
       "    </tr>\n",
       "    <tr>\n",
       "      <td>TNF signaling pathway_Homo sapiens_hsa04668</td>\n",
       "      <td>-0.294493</td>\n",
       "      <td>-2.127335</td>\n",
       "      <td>0.366412</td>\n",
       "      <td>0.886667</td>\n",
       "      <td>110</td>\n",
       "      <td>97</td>\n",
       "      <td>CREB3L4;IKBKB;MAPK3;CREB3L1;MAPK9;TRAF5;RIPK3;...</td>\n",
       "      <td>SOCS3;TNFRSF1B;MAP2K1;DNM1L;MAP3K7;IL1B;MAPK12...</td>\n",
       "    </tr>\n",
       "    <tr>\n",
       "      <td>T cell receptor signaling pathway_Homo sapiens_hsa04660</td>\n",
       "      <td>-0.294669</td>\n",
       "      <td>-2.133470</td>\n",
       "      <td>0.410853</td>\n",
       "      <td>0.893548</td>\n",
       "      <td>104</td>\n",
       "      <td>81</td>\n",
       "      <td>VAV3;IKBKB;MAPK3;PDPK1;MAPK9;PPP3CB;GRB2;RHOA;...</td>\n",
       "      <td>RASGRP1;MAP3K8;CBLB;RELA;VAV1;TEC;RAF1;IKBKG;M...</td>\n",
       "    </tr>\n",
       "  </tbody>\n",
       "</table>\n",
       "</div>"
      ],
      "text/plain": [
       "                                                          es       nes  \\\n",
       "Term                                                                     \n",
       "Vasopressin-regulated water reabsorption_Homo s...  0.477199  3.592215   \n",
       "Peroxisome_Homo sapiens_hsa04146                    0.458265  3.357253   \n",
       "Sphingolipid metabolism_Homo sapiens_hsa00600       0.494355  3.656919   \n",
       "TNF signaling pathway_Homo sapiens_hsa04668        -0.294493 -2.127335   \n",
       "T cell receptor signaling pathway_Homo sapiens_... -0.294669 -2.133470   \n",
       "\n",
       "                                                        pval       fdr  \\\n",
       "Term                                                                     \n",
       "Vasopressin-regulated water reabsorption_Homo s...  0.025424  0.447461   \n",
       "Peroxisome_Homo sapiens_hsa04146                    0.033058  0.688015   \n",
       "Sphingolipid metabolism_Homo sapiens_hsa00600       0.035714  0.699064   \n",
       "TNF signaling pathway_Homo sapiens_hsa04668         0.366412  0.886667   \n",
       "T cell receptor signaling pathway_Homo sapiens_...  0.410853  0.893548   \n",
       "\n",
       "                                                    geneset_size  \\\n",
       "Term                                                               \n",
       "Vasopressin-regulated water reabsorption_Homo s...            44   \n",
       "Peroxisome_Homo sapiens_hsa04146                              83   \n",
       "Sphingolipid metabolism_Homo sapiens_hsa00600                 47   \n",
       "TNF signaling pathway_Homo sapiens_hsa04668                  110   \n",
       "T cell receptor signaling pathway_Homo sapiens_...           104   \n",
       "\n",
       "                                                    matched_size  \\\n",
       "Term                                                               \n",
       "Vasopressin-regulated water reabsorption_Homo s...            37   \n",
       "Peroxisome_Homo sapiens_hsa04146                              70   \n",
       "Sphingolipid metabolism_Homo sapiens_hsa00600                 35   \n",
       "TNF signaling pathway_Homo sapiens_hsa04668                   97   \n",
       "T cell receptor signaling pathway_Homo sapiens_...            81   \n",
       "\n",
       "                                                                                                genes  \\\n",
       "Term                                                                                                    \n",
       "Vasopressin-regulated water reabsorption_Homo s...  DCTN4;ADCY9;RAB5B;CREB3L4;ADCY6;RAB5C;CREB3L1;...   \n",
       "Peroxisome_Homo sapiens_hsa04146                    NUDT12;HSD17B4;PEX12;ACOX2;CROT;SLC27A2;PEX11A...   \n",
       "Sphingolipid metabolism_Homo sapiens_hsa00600       DEGS2;UGCG;CERS6;ASAH1;CERS4;SPTLC2;CERS2;SMPD...   \n",
       "TNF signaling pathway_Homo sapiens_hsa04668         CREB3L4;IKBKB;MAPK3;CREB3L1;MAPK9;TRAF5;RIPK3;...   \n",
       "T cell receptor signaling pathway_Homo sapiens_...  VAV3;IKBKB;MAPK3;PDPK1;MAPK9;PPP3CB;GRB2;RHOA;...   \n",
       "\n",
       "                                                                                          ledge_genes  \n",
       "Term                                                                                                   \n",
       "Vasopressin-regulated water reabsorption_Homo s...  DCTN4;ADCY9;RAB5B;CREB3L4;ADCY6;RAB5C;CREB3L1;...  \n",
       "Peroxisome_Homo sapiens_hsa04146                    NUDT12;HSD17B4;PEX12;ACOX2;CROT;SLC27A2;PEX11A...  \n",
       "Sphingolipid metabolism_Homo sapiens_hsa00600       DEGS2;UGCG;CERS6;ASAH1;CERS4;SPTLC2;CERS2;SMPD...  \n",
       "TNF signaling pathway_Homo sapiens_hsa04668         SOCS3;TNFRSF1B;MAP2K1;DNM1L;MAP3K7;IL1B;MAPK12...  \n",
       "T cell receptor signaling pathway_Homo sapiens_...  RASGRP1;MAP3K8;CBLB;RELA;VAV1;TEC;RAF1;IKBKG;M...  "
      ]
     },
     "execution_count": 7,
     "metadata": {},
     "output_type": "execute_result"
    }
   ],
   "source": [
    "gs_res.res2d.head()"
   ]
  },
  {
   "cell_type": "code",
   "execution_count": 8,
   "metadata": {},
   "outputs": [
    {
     "data": {
      "image/png": "[encoded data removed]",
      "text/plain": [
       "<Figure size 432x396 with 4 Axes>"
      ]
     },
     "metadata": {
      "needs_background": "light"
     },
     "output_type": "display_data"
    }
   ],
   "source": [
    "from gseapy.plot import gseaplot, heatmap\n",
    "terms = gs_res.res2d.index\n",
    "# Make sure that ``ofname`` is not None, if you want to save your figure to disk\n",
    "gseaplot(gs_res.ranking, term=terms[0], **gs_res.results[terms[0]])\n"
   ]
  },
  {
   "cell_type": "code",
   "execution_count": null,
   "metadata": {},
   "outputs": [],
   "source": []
  }
 ],
 "metadata": {
  "kernelspec": {
   "display_name": "Python 3",
   "language": "python",
   "name": "python3"
  },
  "language_info": {
   "codemirror_mode": {
    "name": "ipython",
    "version": 3
   },
   "file_extension": ".py",
   "mimetype": "text/x-python",
   "name": "python",
   "nbconvert_exporter": "python",
   "pygments_lexer": "ipython3",
   "version": "3.7.3"
  }
 },
 "nbformat": 4,
 "nbformat_minor": 2
}
