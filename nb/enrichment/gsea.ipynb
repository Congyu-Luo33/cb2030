{
 "cells": [
  {
   "cell_type": "markdown",
   "metadata": {},
   "source": [
    "# Over representation  analysis and gene set enrichment analysis "
   ]
  },
  {
   "cell_type": "code",
   "execution_count": 1,
   "metadata": {},
   "outputs": [],
   "source": [
    "import pandas as pd\n",
    "qvalues = pd.read_csv(\"../multiplehypo/qvalues.tsv\",sep=\"\\t\",index_col=0)"
   ]
  },
  {
   "cell_type": "code",
   "execution_count": 2,
   "metadata": {},
   "outputs": [
    {
     "data": {
      "text/plain": [
       "Hugo_Symbol\n",
       "NAT1       7.780762e-42\n",
       "TBC1D9     2.475169e-40\n",
       "ESR1       2.475169e-40\n",
       "ARMT1      3.624451e-40\n",
       "SLC16A6    3.707353e-40\n",
       "               ...     \n",
       "ATP11A     9.362331e-16\n",
       "FAM188B    9.389268e-16\n",
       "LCA5L      9.418759e-16\n",
       "AFF4       9.448362e-16\n",
       "PDHB       9.621346e-16\n",
       "Name: q, Length: 775, dtype: float64"
      ]
     },
     "execution_count": 2,
     "metadata": {},
     "output_type": "execute_result"
    }
   ],
   "source": [
    "qvalues.loc[qvalues[\"q\"]<1e-15,\"q\"]"
   ]
  },
  {
   "cell_type": "code",
   "execution_count": 9,
   "metadata": {},
   "outputs": [],
   "source": [
    "import gseapy as gp\n",
    "\n",
    "pathway_db=['KEGG_2019_Human']\n",
    "background=qvalues.index\n",
    "gene_list = list(qvalues.loc[qvalues[\"q\"]<1e-15,\"q\"].index)\n",
    "\n",
    "output_enrichr=pd.DataFrame()\n",
    "enr=gp.enrichr(\n",
    "                gene_list=gene_list,\n",
    "                gene_sets=pathway_db,\n",
    "                background=background\n",
    "            )\n"
   ]
  },
  {
   "cell_type": "code",
   "execution_count": 25,
   "metadata": {},
   "outputs": [],
   "source": [
    "kegg_enr = enr.results[[\"P-value\",\"Overlap\",\"Term\"]].rename(columns={\"P-value\": \"p\"})"
   ]
  },
  {
   "cell_type": "code",
   "execution_count": 26,
   "metadata": {},
   "outputs": [],
   "source": [
    "import numpy as np\n",
    "import numpy.random as npr\n",
    "\n",
    "def bootstrap(invec):\n",
    "    idx = npr.randint(0, len(invec), len(invec))\n",
    "    return [invec[i] for i in idx]\n",
    "\n",
    "def estimatePi0(p, numBoot=100, numLambda=100, maxLambda=0.95):\n",
    "    p.sort()\n",
    "    n=len(p)\n",
    "    lambdas=np.linspace(maxLambda/numLambda,maxLambda,numLambda)\n",
    "    Wls=np.array([n-np.argmax(p>=l) for l in lambdas])\n",
    "    pi0s=np.array([Wls[i] / (n * (1 - lambdas[i])) for i in range(numLambda)])\n",
    "    minPi0=np.min(pi0s)\n",
    "    mse = np.zeros(numLambda)\n",
    "    for boot in range(numBoot):\n",
    "        pBoot = bootstrap(p)\n",
    "        pBoot.sort()\n",
    "        WlsBoot =np.array([n-np.argmax(pBoot>=l) for l in lambdas])\n",
    "        pi0sBoot =np.array([WlsBoot[i] / (n *(1 - lambdas[i])) for i in range(numLambda)])\n",
    "        mse = mse + np.square(pi0sBoot-minPi0)\n",
    "    minIx = np.argmin(mse)\n",
    "    return pi0s[minIx]\n",
    "\n",
    "def qvalues(pvalues):\n",
    "    m = pvalues.shape[0] # The number of p-values\n",
    "    pvalues.sort_values(\"p\",inplace=True) # sort the pvalues in acending order\n",
    "    pi0 = estimatePi0(list(pvalues[\"p\"].values))\n",
    "    print(\"pi_0 estimated to \" + str(pi0))\n",
    "    \n",
    "    # calculate a FDR(t) as in Storey & Tibshirani\n",
    "    num_p = 0.0\n",
    "    for ix in pvalues.index:\n",
    "        num_p += 1.0\n",
    "        fdr = pi0*pvalues.loc[ix,\"p\"]*m/num_p\n",
    "        pvalues.loc[ix,\"q\"] = fdr\n",
    "    \n",
    "    # calculate a q(p) as the minimal FDR(t)\n",
    "    old_q=1.0\n",
    "    for ix in reversed(list(pvalues.index)):\n",
    "        q = min(old_q,pvalues.loc[ix,\"q\"])\n",
    "        old_q = q\n",
    "        pvalues.loc[ix,\"q\"] = q\n",
    "    return pvalues"
   ]
  },
  {
   "cell_type": "code",
   "execution_count": 43,
   "metadata": {},
   "outputs": [
    {
     "data": {
      "text/plain": [
       "6.797034073626332e-08"
      ]
     },
     "execution_count": 43,
     "metadata": {},
     "output_type": "execute_result"
    }
   ],
   "source": [
    "import scipy.stats as stats\n",
    "pvalue = stats.hypergeom.sf(24,  len(background), 124, len(gene_list))\n",
    "pvalue"
   ]
  },
  {
   "cell_type": "code",
   "execution_count": 28,
   "metadata": {},
   "outputs": [
    {
     "name": "stdout",
     "output_type": "stream",
     "text": [
      "pi_0 estimated to 0.9464705036660755\n"
     ]
    }
   ],
   "source": [
    "kegg_enr = qvalues(kegg_enr)"
   ]
  },
  {
   "cell_type": "code",
   "execution_count": 30,
   "metadata": {},
   "outputs": [
    {
     "data": {
      "text/html": [
       "<div>\n",
       "<style scoped>\n",
       "    .dataframe tbody tr th:only-of-type {\n",
       "        vertical-align: middle;\n",
       "    }\n",
       "\n",
       "    .dataframe tbody tr th {\n",
       "        vertical-align: top;\n",
       "    }\n",
       "\n",
       "    .dataframe thead th {\n",
       "        text-align: right;\n",
       "    }\n",
       "</style>\n",
       "<table border=\"1\" class=\"dataframe\">\n",
       "  <thead>\n",
       "    <tr style=\"text-align: right;\">\n",
       "      <th></th>\n",
       "      <th>p</th>\n",
       "      <th>Overlap</th>\n",
       "      <th>Term</th>\n",
       "      <th>q</th>\n",
       "    </tr>\n",
       "  </thead>\n",
       "  <tbody>\n",
       "    <tr>\n",
       "      <td>0</td>\n",
       "      <td>6.142575e-11</td>\n",
       "      <td>24/124</td>\n",
       "      <td>Cell cycle</td>\n",
       "      <td>1.575531e-08</td>\n",
       "    </tr>\n",
       "    <tr>\n",
       "      <td>1</td>\n",
       "      <td>1.631457e-04</td>\n",
       "      <td>17/160</td>\n",
       "      <td>Cellular senescence</td>\n",
       "      <td>2.092291e-02</td>\n",
       "    </tr>\n",
       "    <tr>\n",
       "      <td>2</td>\n",
       "      <td>3.322946e-04</td>\n",
       "      <td>7/35</td>\n",
       "      <td>Alanine, aspartate and glutamate metabolism</td>\n",
       "      <td>2.841047e-02</td>\n",
       "    </tr>\n",
       "  </tbody>\n",
       "</table>\n",
       "</div>"
      ],
      "text/plain": [
       "              p Overlap                                         Term  \\\n",
       "0  6.142575e-11  24/124                                   Cell cycle   \n",
       "1  1.631457e-04  17/160                          Cellular senescence   \n",
       "2  3.322946e-04    7/35  Alanine, aspartate and glutamate metabolism   \n",
       "\n",
       "              q  \n",
       "0  1.575531e-08  \n",
       "1  2.092291e-02  \n",
       "2  2.841047e-02  "
      ]
     },
     "execution_count": 30,
     "metadata": {},
     "output_type": "execute_result"
    }
   ],
   "source": [
    "kegg_enr.loc[kegg_enr[\"q\"]<0.05]"
   ]
  },
  {
   "cell_type": "code",
   "execution_count": null,
   "metadata": {},
   "outputs": [],
   "source": []
  }
 ],
 "metadata": {
  "kernelspec": {
   "display_name": "Python 3",
   "language": "python",
   "name": "python3"
  },
  "language_info": {
   "codemirror_mode": {
    "name": "ipython",
    "version": 3
   },
   "file_extension": ".py",
   "mimetype": "text/x-python",
   "name": "python",
   "nbconvert_exporter": "python",
   "pygments_lexer": "ipython3",
   "version": "3.7.3"
  }
 },
 "nbformat": 4,
 "nbformat_minor": 2
}
