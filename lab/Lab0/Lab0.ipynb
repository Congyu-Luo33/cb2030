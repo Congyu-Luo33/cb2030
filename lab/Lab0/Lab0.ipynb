{
 "cells": [
  {
   "cell_type": "code",
   "execution_count": 1,
   "metadata": {},
   "outputs": [],
   "source": [
    "import pandas as pd\n",
    "import numpy as np\n",
    "import scipy as sp\n",
    "import seaborn as sns\n",
    "import matplotlib.pyplot as plt\n",
    "\n",
    "from ipywidgets import interact, interact_manual, IntSlider, FloatSlider, Dropdown, Text\n",
    "\n",
    "import gseapy as gp\n",
    "import sklearn as skl\n",
    "\n",
    "import networkx\n",
    "import statsmodels"
   ]
  },
  {
   "cell_type": "markdown",
   "metadata": {},
   "source": [
    "The cell above loads all the necessary packages for all the labs. If you executed it without error, you are all set :)\n",
    "\n",
    "# Introduction to Jupyter Notebooks\n",
    "\n",
    "A Notebook is devided into **cells**. Each cell can be either a text (like this one) or contain *python* code.\n",
    "\n",
    "Running a text cell won't change much, the most it does it make it look pretty. But running a code cell, will execute the code in it, and output the results. \n",
    "\n",
    "You have two options for running cells, either click the [**&#9658; Run**] button or by pressing\n",
    "\n",
    "Try running the cell below."
   ]
  },
  {
   "cell_type": "code",
   "execution_count": 3,
   "metadata": {},
   "outputs": [
    {
     "name": "stdout",
     "output_type": "stream",
     "text": [
      "Did this work?\n"
     ]
    }
   ],
   "source": [
    "print('Did this work?')"
   ]
  },
  {
   "cell_type": "markdown",
   "metadata": {},
   "source": [
    "Great, that hopefully worked. Now try changing the code to make it print something more appropriate :)\n",
    "\n",
    "---\n",
    "\n",
    "Not every code has has an output. Some code will only load packages, data or functions and keep them in memory for a later use.\n",
    "An example is the next cell, \n"
   ]
  }
 ],
 "metadata": {
  "kernelspec": {
   "display_name": "Python 3",
   "language": "python",
   "name": "python3"
  },
  "language_info": {
   "codemirror_mode": {
    "name": "ipython",
    "version": 3
   },
   "file_extension": ".py",
   "mimetype": "text/x-python",
   "name": "python",
   "nbconvert_exporter": "python",
   "pygments_lexer": "ipython3",
   "version": "3.6.9"
  }
 },
 "nbformat": 4,
 "nbformat_minor": 4
}
